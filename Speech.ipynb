{
 "cells": [
  {
   "cell_type": "code",
   "execution_count": 1,
   "id": "difficult-protection",
   "metadata": {
    "ExecuteTime": {
     "end_time": "2021-01-30T13:56:05.191518Z",
     "start_time": "2021-01-30T13:56:05.000751Z"
    }
   },
   "outputs": [],
   "source": [
    "from selenium import webdriver\n",
    "import time\n",
    "from selenium.webdriver.chrome.options import Options\n",
    "from bs4 import BeautifulSoup\n",
    "from getpass import getpass"
   ]
  },
  {
   "cell_type": "code",
<<<<<<< HEAD
   "execution_count": 3,
=======
   "execution_count": 22,
>>>>>>> 7c331e46a70d7d09aa81f7e568eb174f9ecec7ed
   "id": "aboriginal-layout",
   "metadata": {
    "ExecuteTime": {
     "end_time": "2021-01-30T13:56:51.569704Z",
     "start_time": "2021-01-30T13:56:47.823145Z"
    }
   },
   "outputs": [
    {
     "name": "stderr",
     "output_type": "stream",
     "text": [
<<<<<<< HEAD
      "<ipython-input-3-1a8b2bdaadf8>:6: DeprecationWarning: use options instead of chrome_options\n",
      "  browser = webdriver.Chrome('C:/Users/kshit/workspace_python/Selenium WebDrivers/chromedriver.exe',chrome_options=chrome_options)\n"
=======
      "<ipython-input-22-121661983b46>:6: DeprecationWarning: use options instead of chrome_options\n",
      "  browser = webdriver.Chrome('c:/Users/nishant/Google_Meet/chromedriver_win32/chromedriver.exe',chrome_options=chrome_options)\n"
>>>>>>> 7c331e46a70d7d09aa81f7e568eb174f9ecec7ed
     ]
    }
   ],
   "source": [
    "chrome_options = Options()\n",
    "chrome_options.add_argument('use-fake-ui-for-media-stream')\n",
    "chrome_options.add_argument('use-fake-device-for-media-stream')\n",
    "chrome_options.add_argument('allow-file-access-from-files')\n",
    "    \n",
    "browser = webdriver.Chrome('C:/Users/kshit/workspace_python/Selenium WebDrivers/chromedriver.exe',chrome_options=chrome_options)"
   ]
  },
  {
   "cell_type": "code",
<<<<<<< HEAD
   "execution_count": 4,
=======
   "execution_count": 3,
>>>>>>> 7c331e46a70d7d09aa81f7e568eb174f9ecec7ed
   "id": "modular-reservation",
   "metadata": {
    "ExecuteTime": {
     "end_time": "2021-01-30T13:57:00.360121Z",
     "start_time": "2021-01-30T13:57:00.352120Z"
    }
   },
   "outputs": [],
   "source": [
    "def enter_meeting(browser,email_id,password,meeting_code):\n",
    "    '''\n",
    "    Input\n",
    "    Browser Object\n",
    "    Email ID\n",
    "    Password\n",
    "    Meeting Code \n",
    "    \n",
    "    Description:\n",
    "    This function helps to join the meeting in Google Meet\n",
    "    \n",
    "    '''\n",
    "    browser.get('https://meet.google.com/')\n",
    "    browser.find_element_by_xpath('/html/body/header/div[1]/div/div[3]/div[1]/div/span[1]/a').click()\n",
    "    login_element = browser.find_element_by_xpath('//*[@id=\"identifierId\"]')\n",
    "    login_element.send_keys(email_id)\n",
    "    browser.find_element_by_xpath('//*[@id=\"identifierNext\"]/div/button/div[2]').click()\n",
    "    time.sleep(10)\n",
    "    password_element = browser.find_element_by_xpath('//*[@id=\"password\"]/div[1]/div/div[1]/input')\n",
    "    password_element.send_keys(password)\n",
    "    browser.find_element_by_xpath('//*[@id=\"passwordNext\"]/div/button/div[2]').click()\n",
    "    time.sleep(5)\n",
    "    try :\n",
    "        print(\"First Entering Method\")\n",
    "        browser.find_element_by_xpath('//*[@id=\"yDmH0d\"]/c-wiz/div/div/div/div[2]/div[2]/div[2]/div/c-wiz/div[1]/div/div/div[1]/div').click()\n",
    "        time.sleep(10)\n",
    "        meeting_element = browser.find_element_by_xpath('//*[@id=\"yDmH0d\"]/div[3]/div/div[2]/span/div/div[2]/div[1]/div[1]/input')\n",
    "        meeting_element.send_keys(meeting_code)\n",
    "        browser.find_element_by_xpath('//*[@id=\"yDmH0d\"]/div[3]/div/div[2]/span/div/div[4]/div[2]/div/span/span').click()\n",
    "    except:\n",
    "        print('Another Entering Method')\n",
    "        meeting_element = browser.find_element_by_xpath('//*[@id=\"i3\"]')\n",
    "        meeting_element.click()\n",
    "        time.sleep(3)\n",
    "        meeting_element.send_keys(meeting_code)\n",
    "        browser.find_element_by_xpath('//*[@id=\"yDmH0d\"]/c-wiz/div/div[2]/div/div[1]/div[3]/div[2]/div[2]/button/div[2]').click()\n",
    "    time.sleep(10)\n",
    "    browser.find_element_by_xpath('//*[@id=\"yDmH0d\"]/c-wiz/div/div/div[8]/div[3]/div/div/div[2]/div/div[1]/div[1]/div[1]/div/div[3]/div[1]/div/div/div').click()\n",
    "    browser.find_element_by_xpath('//*[@id=\"yDmH0d\"]/c-wiz/div/div/div[8]/div[3]/div/div/div[2]/div/div[1]/div[1]/div[1]/div/div[3]/div[2]/div/div').click()\n",
    "    browser.find_element_by_xpath('//*[@id=\"yDmH0d\"]/c-wiz/div/div/div[8]/div[3]/div/div/div[2]/div/div[1]/div[2]/div/div[2]/div/div[1]/div[1]/span/span').click()\n",
    "    time.sleep(30)\n",
    "    \n",
    "    return browser\n"
   ]
  },
  {
   "cell_type": "code",
<<<<<<< HEAD
   "execution_count": 5,
=======
   "execution_count": 4,
>>>>>>> 7c331e46a70d7d09aa81f7e568eb174f9ecec7ed
   "id": "attempted-blond",
   "metadata": {
    "ExecuteTime": {
     "end_time": "2021-01-30T13:57:10.390822Z",
     "start_time": "2021-01-30T13:57:05.203058Z"
    }
   },
   "outputs": [
    {
     "name": "stdout",
     "output_type": "stream",
     "text": [
      "Password:········\n"
     ]
    }
   ],
   "source": [
    "email_id = 'kshitijagarwal_2k18mc057@dtu.ac.in'\n",
    "password = getpass(\"Password:\")"
   ]
  },
  {
   "cell_type": "code",
<<<<<<< HEAD
   "execution_count": 7,
=======
   "execution_count": 5,
>>>>>>> 7c331e46a70d7d09aa81f7e568eb174f9ecec7ed
   "id": "iraqi-vault",
   "metadata": {
    "ExecuteTime": {
     "end_time": "2021-01-30T13:57:21.029505Z",
     "start_time": "2021-01-30T13:57:21.025504Z"
    }
   },
   "outputs": [],
   "source": [
<<<<<<< HEAD
    "meeting_code = 'tef-mnxm-gmr'"
=======
    "meeting_code = 'dii-svvp-zni'"
>>>>>>> 7c331e46a70d7d09aa81f7e568eb174f9ecec7ed
   ]
  },
  {
   "cell_type": "code",
<<<<<<< HEAD
   "execution_count": 8,
=======
   "execution_count": 24,
>>>>>>> 7c331e46a70d7d09aa81f7e568eb174f9ecec7ed
   "id": "federal-practice",
   "metadata": {
    "ExecuteTime": {
     "end_time": "2021-01-30T13:58:28.117621Z",
     "start_time": "2021-01-30T13:57:21.430545Z"
    }
   },
   "outputs": [
    {
     "name": "stdout",
     "output_type": "stream",
     "text": [
      "First Entering Method\n",
      "Another Entering Method\n"
     ]
    }
   ],
   "source": [
    "browser = enter_meeting(browser,email_id,password,meeting_code)"
   ]
  },
  {
   "cell_type": "code",
   "execution_count": null,
   "id": "controlling-disclosure",
   "metadata": {},
   "outputs": [],
   "source": [
    "caption_element = browser.find_element_by_xpath('//*[@id=\"ow3\"]/div[1]/div/div[8]/div[3]/div[6]')"
   ]
  },
  {
   "cell_type": "code",
   "execution_count": 9,
   "id": "greatest-fields",
   "metadata": {
    "ExecuteTime": {
     "end_time": "2021-01-30T13:58:28.205634Z",
     "start_time": "2021-01-30T13:58:28.127367Z"
    }
   },
   "outputs": [],
   "source": [
    "browser.find_element_by_xpath('//*[@id=\"ow3\"]/div[1]/div/div[8]/div[3]/div[9]/div[3]/div[2]/div/span/span/div').click()"
   ]
  },
  {
   "cell_type": "code",
   "execution_count": 63,
   "id": "facial-third",
   "metadata": {},
   "outputs": [],
   "source": [
    "soup = BeautifulSoup(browser.page_source, 'html.parser')"
   ]
  },
  {
   "cell_type": "code",
   "execution_count": null,
   "id": "english-formula",
   "metadata": {},
   "outputs": [],
   "source": []
  },
  {
   "cell_type": "code",
   "execution_count": null,
   "id": "incorporate-check",
   "metadata": {
    "ExecuteTime": {
     "start_time": "2021-01-30T13:58:40.655Z"
    }
   },
   "outputs": [
    {
     "name": "stdout",
     "output_type": "stream",
     "text": [
      "2K18_MC_074 NishantSushmakar\n",
      "********************\n",
      "executive which\n",
      "message\n",
      "hi if you make you warming me up.\n",
      "Kshitij Agarwal\n",
      "********************\n",
      "hi if you make you warming me up.\n",
      "you\n",
      "2K18_MC_074 NishantSushmakar\n",
      "********************\n",
      "Hey, hi.\n",
      "How did you?\n",
      "2K18_MC_074 NishantSushmakar\n",
      "********************\n",
      "Hey, hi.\n",
      "How did you?\n",
      "Hello, my name is shataj.\n",
      "Kshitij Agarwal\n",
      "********************\n",
      "Hello, my name is shataj.\n",
      "I am a third year engineering\n",
      "student.\n",
      "Kshitij Agarwal\n",
      "********************\n",
      "I am a third year engineering\n",
      "student.\n",
      "I'm a third year engineering student.\n",
      "I think this will work only when the\n",
      "message window is on because\n",
      "2K18_MC_074 NishantSushmakar\n",
      "********************\n",
      "I think this will work only when the\n",
      "message window is on because when I\n",
      "checked for the classes.\n",
      "I did keep keep my message window on\n",
      "at that point of time.\n",
      "Kshitij Agarwal\n",
      "********************\n",
      "Okay, then I'll insert that piece of\n",
      "code.\n",
      "No, you don't have to.\n",
      "Because when I'm running the\n"
     ]
    }
   ],
   "source": [
    "while True:\n",
    "    soup = BeautifulSoup(browser.page_source, 'html.parser')\n",
    "    mydivs = soup.findAll(\"div\", {\"class\": \"a4cQT xiCV9b\"})\n",
    "    for i in range(len(mydivs)):\n",
    "        print(mydivs[i].find('div',{'class':'zs7s8d jxFHg'}).get_text())\n",
    "        print('*'*20)\n",
    "        for k in range(len(mydivs[i].findAll('span',{'class':'CNusmb'}))):\n",
    "            \n",
    "            print(mydivs[i].findAll('span',{'class':'CNusmb'})[k].get_text())\n",
    "    time.sleep(8)"
   ]
  },
  {
   "cell_type": "code",
   "execution_count": null,
   "id": "substantial-church",
   "metadata": {},
   "outputs": [],
   "source": []
  },
  {
   "cell_type": "code",
   "execution_count": 64,
   "id": "sufficient-characteristic",
   "metadata": {},
   "outputs": [],
   "source": [
    "mydivs = soup.findAll(\"div\", {\"class\": \"a4cQT xiCV9b\"})"
   ]
  },
  {
   "cell_type": "code",
   "execution_count": 74,
   "id": "twelve-rapid",
   "metadata": {},
   "outputs": [
    {
     "data": {
      "text/plain": [
       "'he set of variations.'"
      ]
     },
     "execution_count": 74,
     "metadata": {},
     "output_type": "execute_result"
    }
   ],
   "source": [
    "mydivs[0].findAll('span',{'class':'CNusmb'})[0].get_text()\n",
    "    "
   ]
  },
  {
   "cell_type": "code",
   "execution_count": 66,
   "id": "operational-snapshot",
   "metadata": {},
   "outputs": [
    {
     "data": {
      "text/plain": [
       "'LN DAS'"
      ]
     },
     "execution_count": 66,
     "metadata": {},
     "output_type": "execute_result"
    }
   ],
   "source": [
    "mydivs[0].find('div',{'class':'zs7s8d jxFHg'}).get_text()"
   ]
  },
  {
   "cell_type": "code",
   "execution_count": 25,
   "id": "revised-criminal",
   "metadata": {},
   "outputs": [],
   "source": [
    "def remove_user(name,browser):\n",
    "    '''\n",
    "    Description \n",
    "    \n",
    "    Input : User Name to be removed\n",
    "    \n",
    "    Function removes the user \n",
    "    \n",
    "    '''\n",
    "    browser.find_element_by_xpath('//*[@id=\"ow3\"]/div[1]/div/div[8]/div[3]/div[4]/div/div[2]/div[2]/div[1]/div[1]').click()\n",
    "    search = BeautifulSoup(browser.page_source, 'html.parser')\n",
    "    users = search.find_all(\"div\",{'class':'KV1GEc'})\n",
    "    i = 1\n",
    "    flag = False\n",
    "    for user in users:\n",
    "\n",
    "        user_name = user.find_all(\"span\",{'class':'ZjFb7c'})\n",
    "        print(user_name[0].get_text())\n",
    "        if user_name[0].get_text()==name :\n",
    "                   \n",
    "            browser.find_element_by_xpath(f'//*[@id=\"ow3\"]/div[1]/div/div[8]/div[3]/div[4]/div/div[2]/div[2]/div[2]/span[1]/div[2]/div[2]/div/div[{i}]/div[2]/div[2]').click()\n",
    "            flag = True\n",
    "            break\n",
    "        i += 1\n",
    "        \n",
    "    if flag == True :\n",
    "        time.sleep(8)\n",
    "        browser.find_element_by_xpath('//*[@id=\"ow3\"]/div[1]/div/div[8]/div[3]/div[4]/div/div[2]/div[2]/div[2]/span[1]/div[4]/div/div/span[2]/div[3]/div').click()\n",
    "        time.sleep(5)\n",
    "        browser.find_element_by_xpath('//*[@id=\"yDmH0d\"]/div[3]/div/div[2]/div[3]/div[2]/span/span').click()\n",
    "    \n",
    "    \n",
    "    return browser\n"
   ]
  },
  {
   "cell_type": "code",
   "execution_count": null,
   "id": "tribal-program",
   "metadata": {},
   "outputs": [
    {
     "name": "stdout",
     "output_type": "stream",
     "text": [
      "2K18_MC_074 NishantSushmakar\n",
      "2K18_MC_074 NishantSushmakar\n",
      "NISHANT SUSHMAKAR\n"
     ]
    }
   ],
   "source": [
    "remove_user('NISHANT SUSHMAKAR',browser)"
   ]
  },
  {
   "cell_type": "code",
   "execution_count": null,
   "id": "successful-bobby",
   "metadata": {},
   "outputs": [],
   "source": [
    "//*[@id=\"ow3\"]/div[1]/div/div[8]/div[3]/div[4]/div/div[2]/div[2]/div[2]/span[1]/div[2]/div[2]/div/div[3]/div[2]/div[2]"
   ]
  },
  {
   "cell_type": "code",
   "execution_count": null,
   "id": "imperial-reward",
   "metadata": {},
   "outputs": [],
   "source": [
    "//*[@id=\"ow3\"]/div[1]/div/div[8]/div[3]/div[4]/div/div[2]/div[2]/div[2]/span[1]/div[2]/div[2]/div/div[2]/div[2]/div[2]/div"
   ]
  },
  {
   "cell_type": "code",
   "execution_count": 16,
   "id": "resistant-matter",
   "metadata": {},
   "outputs": [],
   "source": [
    "browser.find_element_by_xpath(f'//*[@id=\"ow3\"]/div[1]/div/div[8]/div[3]/div[4]/div/div[2]/div[2]/div[2]/span[1]/div[2]/div[2]/div/div[{i}]/div[2]/div[2]').click()"
   ]
  },
  {
   "cell_type": "code",
   "execution_count": null,
   "id": "speaking-beatles",
   "metadata": {},
   "outputs": [],
   "source": []
  },
  {
   "cell_type": "code",
   "execution_count": null,
   "id": "rising-yesterday",
   "metadata": {},
   "outputs": [],
   "source": []
  },
  {
   "cell_type": "code",
   "execution_count": null,
   "id": "attached-seeking",
   "metadata": {},
   "outputs": [],
   "source": []
  }
 ],
 "metadata": {
  "kernelspec": {
   "display_name": "Python 3",
   "language": "python",
   "name": "python3"
  },
  "language_info": {
   "codemirror_mode": {
    "name": "ipython",
    "version": 3
   },
   "file_extension": ".py",
   "mimetype": "text/x-python",
   "name": "python",
   "nbconvert_exporter": "python",
   "pygments_lexer": "ipython3",
   "version": "3.8.6"
  },
  "varInspector": {
   "cols": {
    "lenName": 16,
    "lenType": 16,
    "lenVar": 40
   },
   "kernels_config": {
    "python": {
     "delete_cmd_postfix": "",
     "delete_cmd_prefix": "del ",
     "library": "var_list.py",
     "varRefreshCmd": "print(var_dic_list())"
    },
    "r": {
     "delete_cmd_postfix": ") ",
     "delete_cmd_prefix": "rm(",
     "library": "var_list.r",
     "varRefreshCmd": "cat(var_dic_list()) "
    }
   },
   "types_to_exclude": [
    "module",
    "function",
    "builtin_function_or_method",
    "instance",
    "_Feature"
   ],
   "window_display": false
  }
 },
 "nbformat": 4,
 "nbformat_minor": 5
}
