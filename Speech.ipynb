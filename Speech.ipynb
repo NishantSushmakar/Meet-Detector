{
 "cells": [
  {
   "cell_type": "code",
   "execution_count": 1,
   "id": "difficult-protection",
   "metadata": {},
   "outputs": [],
   "source": [
    "from selenium import webdriver\n",
    "import time\n",
    "from selenium.webdriver.chrome.options import Options\n",
    "from bs4 import BeautifulSoup\n",
    "from getpass import getpass"
   ]
  },
  {
   "cell_type": "code",
   "execution_count": 22,
   "id": "aboriginal-layout",
   "metadata": {},
   "outputs": [
    {
     "name": "stderr",
     "output_type": "stream",
     "text": [
      "<ipython-input-22-121661983b46>:6: DeprecationWarning: use options instead of chrome_options\n",
      "  browser = webdriver.Chrome('c:/Users/nishant/Google_Meet/chromedriver_win32/chromedriver.exe',chrome_options=chrome_options)\n"
     ]
    }
   ],
   "source": [
    "chrome_options = Options()\n",
    "chrome_options.add_argument('use-fake-ui-for-media-stream')\n",
    "chrome_options.add_argument('use-fake-device-for-media-stream')\n",
    "chrome_options.add_argument('allow-file-access-from-files')\n",
    "    \n",
    "browser = webdriver.Chrome('c:/Users/nishant/Google_Meet/chromedriver_win32/chromedriver.exe',chrome_options=chrome_options)"
   ]
  },
  {
   "cell_type": "code",
   "execution_count": 3,
   "id": "modular-reservation",
   "metadata": {},
   "outputs": [],
   "source": [
    "def enter_meeting(browser,email_id,password,meeting_code):\n",
    "    '''\n",
    "    Input\n",
    "    Browser Object\n",
    "    Email ID\n",
    "    Password\n",
    "    Meeting Code \n",
    "    \n",
    "    Description:\n",
    "    This function helps to join the meeting in Google Meet\n",
    "    \n",
    "    '''\n",
    "    browser.get('https://meet.google.com/')\n",
    "    browser.find_element_by_xpath('/html/body/header/div[1]/div/div[3]/div[1]/div/span[1]/a').click()\n",
    "    login_element = browser.find_element_by_xpath('//*[@id=\"identifierId\"]')\n",
    "    login_element.send_keys(email_id)\n",
    "    browser.find_element_by_xpath('//*[@id=\"identifierNext\"]/div/button/div[2]').click()\n",
    "    time.sleep(10)\n",
    "    password_element = browser.find_element_by_xpath('//*[@id=\"password\"]/div[1]/div/div[1]/input')\n",
    "    password_element.send_keys(password)\n",
    "    browser.find_element_by_xpath('//*[@id=\"passwordNext\"]/div/button/div[2]').click()\n",
    "    time.sleep(5)\n",
    "    try :\n",
    "        print(\"First Entering Method\")\n",
    "        browser.find_element_by_xpath('//*[@id=\"yDmH0d\"]/c-wiz/div/div/div/div[2]/div[2]/div[2]/div/c-wiz/div[1]/div/div/div[1]/div').click()\n",
    "        time.sleep(10)\n",
    "        meeting_element = browser.find_element_by_xpath('//*[@id=\"yDmH0d\"]/div[3]/div/div[2]/span/div/div[2]/div[1]/div[1]/input')\n",
    "        meeting_element.send_keys(meeting_code)\n",
    "        browser.find_element_by_xpath('//*[@id=\"yDmH0d\"]/div[3]/div/div[2]/span/div/div[4]/div[2]/div/span/span').click()\n",
    "    except:\n",
    "        print('Another Entering Method')\n",
    "        meeting_element = browser.find_element_by_xpath('//*[@id=\"i3\"]')\n",
    "        meeting_element.click()\n",
    "        time.sleep(3)\n",
    "        meeting_element.send_keys(meeting_code)\n",
    "        browser.find_element_by_xpath('//*[@id=\"yDmH0d\"]/c-wiz/div/div[2]/div/div[1]/div[3]/div[2]/div[2]/button/div[2]').click()\n",
    "    time.sleep(10)\n",
    "    browser.find_element_by_xpath('//*[@id=\"yDmH0d\"]/c-wiz/div/div/div[8]/div[3]/div/div/div[2]/div/div[1]/div[1]/div[1]/div/div[3]/div[1]/div/div/div').click()\n",
    "    browser.find_element_by_xpath('//*[@id=\"yDmH0d\"]/c-wiz/div/div/div[8]/div[3]/div/div/div[2]/div/div[1]/div[1]/div[1]/div/div[3]/div[2]/div/div').click()\n",
    "    browser.find_element_by_xpath('//*[@id=\"yDmH0d\"]/c-wiz/div/div/div[8]/div[3]/div/div/div[2]/div/div[1]/div[2]/div/div[2]/div/div[1]/div[1]/span/span').click()\n",
    "    time.sleep(30)\n",
    "    \n",
    "    return browser\n"
   ]
  },
  {
   "cell_type": "code",
   "execution_count": 4,
   "id": "attempted-blond",
   "metadata": {},
   "outputs": [
    {
     "name": "stdout",
     "output_type": "stream",
     "text": [
      "Password:········\n"
     ]
    }
   ],
   "source": [
    "email_id = 'nishantsushmakar_2k18mc074@dtu.ac.in'\n",
    "password = getpass(\"Password:\")"
   ]
  },
  {
   "cell_type": "code",
   "execution_count": 5,
   "id": "iraqi-vault",
   "metadata": {},
   "outputs": [],
   "source": [
    "meeting_code = 'dii-svvp-zni'"
   ]
  },
  {
   "cell_type": "code",
   "execution_count": 24,
   "id": "federal-practice",
   "metadata": {},
   "outputs": [
    {
     "name": "stdout",
     "output_type": "stream",
     "text": [
      "First Entering Method\n",
      "Another Entering Method\n"
     ]
    }
   ],
   "source": [
    "browser = enter_meeting(browser,email_id,password,meeting_code)"
   ]
  },
  {
   "cell_type": "code",
   "execution_count": null,
   "id": "controlling-disclosure",
   "metadata": {},
   "outputs": [],
   "source": [
    "caption_element = browser.find_element_by_xpath('//*[@id=\"ow3\"]/div[1]/div/div[8]/div[3]/div[6]')"
   ]
  },
  {
   "cell_type": "code",
   "execution_count": 35,
   "id": "greatest-fields",
   "metadata": {},
   "outputs": [],
   "source": [
    "browser.find_element_by_xpath('//*[@id=\"ow3\"]/div[1]/div/div[8]/div[3]/div[9]/div[3]/div[2]/div/span/span/div').click()"
   ]
  },
  {
   "cell_type": "code",
   "execution_count": 63,
   "id": "facial-third",
   "metadata": {},
   "outputs": [],
   "source": [
    "soup = BeautifulSoup(browser.page_source, 'html.parser')"
   ]
  },
  {
   "cell_type": "code",
   "execution_count": null,
   "id": "english-formula",
   "metadata": {},
   "outputs": [],
   "source": []
  },
  {
   "cell_type": "code",
   "execution_count": 77,
   "id": "incorporate-check",
   "metadata": {},
   "outputs": [
    {
     "name": "stdout",
     "output_type": "stream",
     "text": [
      "LN DAS\n",
      "********************\n",
      "Contest inquiry in say some good news\n",
      "keyboard means latex symbols.\n",
      "Go ahead.\n",
      "into the sun of differentiation which\n",
      "of the function operator\n",
      "Oh yes of keyboards what I discussed\n",
      "grammar language.\n",
      "is for design core privacy a new what\n",
      "I\n",
      "try to make\n",
      "2K18/MC/088 RAMAN\n",
      "********************\n",
      "Yes, sir.\n",
      "LN DAS\n",
      "********************\n",
      "the application project here\n",
      "engineering project\n",
      "keyboard design is important.\n",
      "It dots can keyboard.\n",
      "LN DAS\n",
      "********************\n",
      "the application project here\n",
      "engineering project\n",
      "keyboard design is important.\n",
      "It dots can keyboard.\n",
      "touch screen device keyboard\n",
      "on qwerty keyboard\n",
      "LN DAS\n",
      "********************\n",
      "the application project here\n",
      "engineering project\n",
      "keyboard design is important.\n",
      "It dots can keyboard.\n",
      "touch screen device keyboard\n",
      "on qwerty keyboard\n",
      "get out yet touch screen mirror.\n",
      "It's good.\n",
      "LN DAS\n",
      "********************\n",
      "the application project here\n",
      "engineering project\n",
      "keyboard design is important.\n",
      "It dots can keyboard.\n",
      "touch screen device keyboard\n",
      "on qwerty keyboard\n",
      "get out yet touch screen mirror.\n",
      "It's good.\n",
      "on auto\n",
      "vending machine design\n",
      "yes of vending\n",
      "LN DAS\n",
      "********************\n",
      "touch screen device keyboard\n",
      "on qwerty keyboard\n",
      "get out yet touch screen mirror.\n",
      "It's good.\n",
      "on auto\n",
      "vending machine design\n",
      "yes of vending machine major signal\n",
      "transition for the high.\n",
      "It is contest.\n",
      "sensitive language\n",
      "LN DAS\n",
      "********************\n",
      "touch screen device keyboard\n",
      "on qwerty keyboard\n",
      "get out yet touch screen mirror.\n",
      "It's good.\n",
      "on auto\n",
      "vending machine design\n",
      "yes of vending machine major signal\n",
      "transition for the high.\n",
      "It is contest.\n",
      "sensitive language\n",
      "the kistara design banding machine at\n",
      "LN DAS\n",
      "********************\n",
      "on auto\n",
      "vending machine design\n",
      "yes of vending machine major signal\n",
      "transition for the high.\n",
      "It is contest.\n",
      "sensitive language\n",
      "the kistara design banding machine at\n",
      "token system.\n",
      "Is either yes or automata Theory?\n",
      "LN DAS\n",
      "********************\n",
      "yes of vending machine major signal\n",
      "transition for the high.\n",
      "It is contest.\n",
      "sensitive language\n",
      "the kistara design banding machine at\n",
      "token system.\n",
      "Is either yes or automata Theory?\n",
      "Both in books.\n",
      "They forget book important important.\n",
      "They can easily book is not\n",
      "LN DAS\n",
      "********************\n",
      "token system.\n",
      "Is either yes or automata Theory?\n",
      "Both in books.\n",
      "They forget book important important.\n",
      "They can easily book is not a good\n",
      "book.\n",
      "Some other books are available for\n",
      "project.\n",
      "This is not helpful for project.\n",
      "project\n",
      "LN DAS\n",
      "********************\n",
      "Both in books.\n",
      "They forget book important important.\n",
      "They can easily book is not a good\n",
      "book.\n",
      "Some other books are available for\n",
      "project.\n",
      "This is not helpful for project.\n",
      "project manager and 10 floor building\n",
      "cup\n",
      "hmm finite\n",
      "LN DAS\n",
      "********************\n",
      "They forget book important important.\n",
      "They can easily book is not a good\n",
      "book.\n",
      "Some other books are available for\n",
      "project.\n",
      "This is not helpful for project.\n",
      "project manager and 10 floor building\n",
      "cup\n",
      "hmm finite automata design\n",
      "corroborate all\n",
      "YouTube\n",
      "LN DAS\n",
      "********************\n",
      "project manager and 10 floor building\n",
      "cup\n",
      "hmm finite automata design\n",
      "corroborate all\n",
      "YouTube\n",
      "elevator control clear\n",
      "on Ophelia one of his zero one.\n",
      "Sir, which book is helpful for\n",
      "project?\n",
      "2K18/MC/088 RAMAN\n",
      "********************\n",
      "Sir, which book is helpful for\n",
      "project?\n",
      "project\n",
      "I will show you some books.\n",
      "It is not with me right now.\n",
      "I forgot in the names.\n",
      "I will\n",
      "LN DAS\n",
      "********************\n",
      "project\n",
      "I will show you some books.\n",
      "It is not with me right now.\n",
      "I forgot in the names.\n",
      "I will show you the some of the books\n",
      "which will be useful.\n",
      "I'll show you and particularly\n",
      "elevator or\n",
      "LN DAS\n",
      "********************\n",
      "project\n",
      "I will show you some books.\n",
      "It is not with me right now.\n",
      "I forgot in the names.\n",
      "I will show you the some of the books\n",
      "which will be useful.\n",
      "I'll show you and particularly\n",
      "elevator or for ID note type of\n",
      "things.\n",
      "I didn't means image.\n",
      "person present or absent\n",
      "an\n",
      "LN DAS\n",
      "********************\n",
      "It is not with me right now.\n",
      "I forgot in the names.\n",
      "I will show you the some of the books\n",
      "which will be useful.\n",
      "I'll show you and particularly\n",
      "elevator or for ID note type of\n",
      "things.\n",
      "I didn't means image.\n",
      "person present or absent\n",
      "an elevator Sumner present here\n",
      "LN DAS\n",
      "********************\n",
      "I will show you the some of the books\n",
      "which will be useful.\n",
      "I'll show you and particularly\n",
      "elevator or for ID note type of\n",
      "things.\n",
      "I didn't means image.\n",
      "person present or absent\n",
      "an elevator Sumner present here\n",
      "physical books, okay\n",
      "Oh, man.\n",
      "LN DAS\n",
      "********************\n",
      "which will be useful.\n",
      "I'll show you and particularly\n",
      "elevator or for ID note type of\n",
      "things.\n",
      "I didn't means image.\n",
      "person present or absent\n",
      "an elevator Sumner present here\n",
      "physical books, okay\n",
      "Oh man title and what's up?\n",
      "books, right\n",
      "LN DAS\n",
      "********************\n",
      "which will be useful.\n",
      "I'll show you and particularly\n",
      "elevator or for ID note type of\n",
      "things.\n",
      "I didn't means image.\n",
      "person present or absent\n",
      "an elevator Sumner present here\n",
      "physical books, okay\n",
      "Oh man title and what's up?\n",
      "books, right\n",
      "here\n",
      "LN DAS\n",
      "********************\n",
      "which will be useful.\n",
      "I'll show you and particularly\n",
      "elevator or for ID note type of\n",
      "things.\n",
      "I didn't means image.\n",
      "person present or absent\n",
      "an elevator Sumner present here\n",
      "physical books, okay\n",
      "Oh man title and what's up?\n",
      "books, right\n",
      "here people this type of automata\n",
      "LN DAS\n",
      "********************\n",
      "I didn't means image.\n",
      "person present or absent\n",
      "an elevator Sumner present here\n",
      "physical books, okay\n",
      "Oh man title and what's up?\n",
      "books, right\n",
      "here people this type of automata\n",
      "microcontroller design jokate\n",
      "programming\n",
      "logic programming and\n",
      "Logic on\n",
      "LN DAS\n",
      "********************\n",
      "physical books, okay\n",
      "Oh man title and what's up?\n",
      "books, right\n",
      "here people this type of automata\n",
      "microcontroller design jokate\n",
      "programming\n",
      "logic programming and\n",
      "Logic on else else logic controller\n",
      "programming\n",
      "for control logic programming\n",
      "Diego\n"
     ]
    },
    {
     "ename": "KeyboardInterrupt",
     "evalue": "",
     "output_type": "error",
     "traceback": [
      "\u001b[1;31m---------------------------------------------------------------------------\u001b[0m",
      "\u001b[1;31mKeyboardInterrupt\u001b[0m                         Traceback (most recent call last)",
      "\u001b[1;32m<ipython-input-77-4097649c8579>\u001b[0m in \u001b[0;36m<module>\u001b[1;34m\u001b[0m\n\u001b[0;32m      8\u001b[0m \u001b[1;33m\u001b[0m\u001b[0m\n\u001b[0;32m      9\u001b[0m             \u001b[0mprint\u001b[0m\u001b[1;33m(\u001b[0m\u001b[0mmydivs\u001b[0m\u001b[1;33m[\u001b[0m\u001b[0mi\u001b[0m\u001b[1;33m]\u001b[0m\u001b[1;33m.\u001b[0m\u001b[0mfindAll\u001b[0m\u001b[1;33m(\u001b[0m\u001b[1;34m'span'\u001b[0m\u001b[1;33m,\u001b[0m\u001b[1;33m{\u001b[0m\u001b[1;34m'class'\u001b[0m\u001b[1;33m:\u001b[0m\u001b[1;34m'CNusmb'\u001b[0m\u001b[1;33m}\u001b[0m\u001b[1;33m)\u001b[0m\u001b[1;33m[\u001b[0m\u001b[0mk\u001b[0m\u001b[1;33m]\u001b[0m\u001b[1;33m.\u001b[0m\u001b[0mget_text\u001b[0m\u001b[1;33m(\u001b[0m\u001b[1;33m)\u001b[0m\u001b[1;33m)\u001b[0m\u001b[1;33m\u001b[0m\u001b[1;33m\u001b[0m\u001b[0m\n\u001b[1;32m---> 10\u001b[1;33m     \u001b[0mtime\u001b[0m\u001b[1;33m.\u001b[0m\u001b[0msleep\u001b[0m\u001b[1;33m(\u001b[0m\u001b[1;36m8\u001b[0m\u001b[1;33m)\u001b[0m\u001b[1;33m\u001b[0m\u001b[1;33m\u001b[0m\u001b[0m\n\u001b[0m",
      "\u001b[1;31mKeyboardInterrupt\u001b[0m: "
     ]
    }
   ],
   "source": [
    "while True:\n",
    "    soup = BeautifulSoup(browser.page_source, 'html.parser')\n",
    "    mydivs = soup.findAll(\"div\", {\"class\": \"a4cQT xiCV9b\"})\n",
    "    for i in range(len(mydivs)):\n",
    "        print(mydivs[i].find('div',{'class':'zs7s8d jxFHg'}).get_text())\n",
    "        print('*'*20)\n",
    "        for k in range(len(mydivs[i].findAll('span',{'class':'CNusmb'}))):\n",
    "            \n",
    "            print(mydivs[i].findAll('span',{'class':'CNusmb'})[k].get_text())\n",
    "    time.sleep(8)"
   ]
  },
  {
   "cell_type": "code",
   "execution_count": null,
   "id": "substantial-church",
   "metadata": {},
   "outputs": [],
   "source": []
  },
  {
   "cell_type": "code",
   "execution_count": 64,
   "id": "sufficient-characteristic",
   "metadata": {},
   "outputs": [],
   "source": [
    "mydivs = soup.findAll(\"div\", {\"class\": \"a4cQT xiCV9b\"})"
   ]
  },
  {
   "cell_type": "code",
   "execution_count": 74,
   "id": "twelve-rapid",
   "metadata": {},
   "outputs": [
    {
     "data": {
      "text/plain": [
       "'he set of variations.'"
      ]
     },
     "execution_count": 74,
     "metadata": {},
     "output_type": "execute_result"
    }
   ],
   "source": [
    "mydivs[0].findAll('span',{'class':'CNusmb'})[0].get_text()\n",
    "    "
   ]
  },
  {
   "cell_type": "code",
   "execution_count": 66,
   "id": "operational-snapshot",
   "metadata": {},
   "outputs": [
    {
     "data": {
      "text/plain": [
       "'LN DAS'"
      ]
     },
     "execution_count": 66,
     "metadata": {},
     "output_type": "execute_result"
    }
   ],
   "source": [
    "mydivs[0].find('div',{'class':'zs7s8d jxFHg'}).get_text()"
   ]
  },
  {
   "cell_type": "code",
   "execution_count": 25,
   "id": "revised-criminal",
   "metadata": {},
   "outputs": [],
   "source": [
    "def remove_user(name,browser):\n",
    "    '''\n",
    "    Description \n",
    "    \n",
    "    Input : User Name to be removed\n",
    "    \n",
    "    Function removes the user \n",
    "    \n",
    "    '''\n",
    "    browser.find_element_by_xpath('//*[@id=\"ow3\"]/div[1]/div/div[8]/div[3]/div[4]/div/div[2]/div[2]/div[1]/div[1]').click()\n",
    "    search = BeautifulSoup(browser.page_source, 'html.parser')\n",
    "    users = search.find_all(\"div\",{'class':'KV1GEc'})\n",
    "    i = 1\n",
    "    flag = False\n",
    "    for user in users:\n",
    "\n",
    "        user_name = user.find_all(\"span\",{'class':'ZjFb7c'})\n",
    "        print(user_name[0].get_text())\n",
    "        if user_name[0].get_text()==name :\n",
    "                   \n",
    "            browser.find_element_by_xpath(f'//*[@id=\"ow3\"]/div[1]/div/div[8]/div[3]/div[4]/div/div[2]/div[2]/div[2]/span[1]/div[2]/div[2]/div/div[{i}]/div[2]/div[2]').click()\n",
    "            flag = True\n",
    "            break\n",
    "        i += 1\n",
    "        \n",
    "    if flag == True :\n",
    "        time.sleep(8)\n",
    "        browser.find_element_by_xpath('//*[@id=\"ow3\"]/div[1]/div/div[8]/div[3]/div[4]/div/div[2]/div[2]/div[2]/span[1]/div[4]/div/div/span[2]/div[3]/div').click()\n",
    "        time.sleep(5)\n",
    "        browser.find_element_by_xpath('//*[@id=\"yDmH0d\"]/div[3]/div/div[2]/div[3]/div[2]/span/span').click()\n",
    "    \n",
    "    \n",
    "    return browser\n"
   ]
  },
  {
   "cell_type": "code",
   "execution_count": null,
   "id": "tribal-program",
   "metadata": {},
   "outputs": [
    {
     "name": "stdout",
     "output_type": "stream",
     "text": [
      "2K18_MC_074 NishantSushmakar\n",
      "2K18_MC_074 NishantSushmakar\n",
      "NISHANT SUSHMAKAR\n"
     ]
    }
   ],
   "source": [
    "remove_user('NISHANT SUSHMAKAR',browser)"
   ]
  },
  {
   "cell_type": "code",
   "execution_count": null,
   "id": "successful-bobby",
   "metadata": {},
   "outputs": [],
   "source": [
    "//*[@id=\"ow3\"]/div[1]/div/div[8]/div[3]/div[4]/div/div[2]/div[2]/div[2]/span[1]/div[2]/div[2]/div/div[3]/div[2]/div[2]"
   ]
  },
  {
   "cell_type": "code",
   "execution_count": null,
   "id": "imperial-reward",
   "metadata": {},
   "outputs": [],
   "source": [
    "//*[@id=\"ow3\"]/div[1]/div/div[8]/div[3]/div[4]/div/div[2]/div[2]/div[2]/span[1]/div[2]/div[2]/div/div[2]/div[2]/div[2]/div"
   ]
  },
  {
   "cell_type": "code",
   "execution_count": 16,
   "id": "resistant-matter",
   "metadata": {},
   "outputs": [],
   "source": [
    "browser.find_element_by_xpath(f'//*[@id=\"ow3\"]/div[1]/div/div[8]/div[3]/div[4]/div/div[2]/div[2]/div[2]/span[1]/div[2]/div[2]/div/div[{i}]/div[2]/div[2]').click()"
   ]
  },
  {
   "cell_type": "code",
   "execution_count": null,
   "id": "speaking-beatles",
   "metadata": {},
   "outputs": [],
   "source": []
  },
  {
   "cell_type": "code",
   "execution_count": null,
   "id": "rising-yesterday",
   "metadata": {},
   "outputs": [],
   "source": []
  },
  {
   "cell_type": "code",
   "execution_count": null,
   "id": "attached-seeking",
   "metadata": {},
   "outputs": [],
   "source": []
  }
 ],
 "metadata": {
  "kernelspec": {
   "display_name": "Python 3",
   "language": "python",
   "name": "python3"
  },
  "language_info": {
   "codemirror_mode": {
    "name": "ipython",
    "version": 3
   },
   "file_extension": ".py",
   "mimetype": "text/x-python",
   "name": "python",
   "nbconvert_exporter": "python",
   "pygments_lexer": "ipython3",
   "version": "3.8.0"
  }
 },
 "nbformat": 4,
 "nbformat_minor": 5
}
